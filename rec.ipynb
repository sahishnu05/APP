{
 "cells": [
  {
   "cell_type": "code",
   "execution_count": 2,
   "metadata": {},
   "outputs": [
    {
     "ename": "IndentationError",
     "evalue": "unindent does not match any outer indentation level (<tokenize>, line 47)",
     "output_type": "error",
     "traceback": [
      "\u001b[0;36m  File \u001b[0;32m<tokenize>:47\u001b[0;36m\u001b[0m\n\u001b[0;31m    all_materials = give_rec(material)\u001b[0m\n\u001b[0m    ^\u001b[0m\n\u001b[0;31mIndentationError\u001b[0m\u001b[0;31m:\u001b[0m unindent does not match any outer indentation level\n"
     ]
    }
   ],
   "source": [
    "import numpy as np\n",
    "import pandas as pd\n",
    "import matplotlib.pyplot as plt\n",
    "from sklearn.feature_extraction.text import TfidfVectorizer\n",
    "from sklearn.metrics.pairwise import sigmoid_kernel\n",
    "\n",
    "\n",
    "\n",
    "# Read the CSV file\n",
    "df = pd.read_csv(\"cement.csv\")\n",
    "applications = df['Application'].unique()\n",
    "print(applications)\n",
    "\n",
    "search_materials = ['Foundation', 'Walls', 'Roofing', 'Flooring', 'Plastering', 'Repairs', 'Mass Concrete']\n",
    "\n",
    "def filter_material(application, material):\n",
    "    c_df = df[df['Application'] == application]\n",
    "    neces_df = c_df[['Material', 'Review']]  # Select Material and Review\n",
    "    tfv = TfidfVectorizer(min_df=2, max_features=None,\n",
    "                        strip_accents='unicode', analyzer='word',\n",
    "                        token_pattern=r'\\w{1,}', ngram_range=(1, 3),\n",
    "                        stop_words='english')\n",
    "    neces_df.loc[:, 'Review'] = neces_df['Review'].fillna('')\n",
    "    tfv_matrix = tfv.fit_transform(neces_df['Review'])\n",
    "    sig = sigmoid_kernel(tfv_matrix, tfv_matrix)\n",
    "    indices = pd.Series(neces_df.index, index=neces_df['Material']).drop_duplicates()\n",
    "    indices_lower = indices.index.str.lower()\n",
    "\n",
    "def give_rec(title, sig=sig):\n",
    "    if title in neces_df['Material'].tolist():\n",
    "      # Matched Title: Return similar materials for the exact title\n",
    "        idx = indices[indices_lower.get_loc(title)]\n",
    "        sig_scores = list(enumerate(sig[idx]))\n",
    "        sig_scores = sorted(sig_scores, key=lambda x: x[1], reverse=True)\n",
    "        sig_scores = sig_scores[1:-1]  # Exclude the material itself\n",
    "        n_in = [i[0] for i in sig_scores]\n",
    "        return df.iloc[n_in]  # Return data from original df using n_in\n",
    "    else:\n",
    "      # Unmatched Title: Return application-specific materials sorted by similarity\n",
    "        all_materials = neces_df.copy()\n",
    "        all_materials['Similarity Score'] = sig.diagonal()\n",
    "        all_materials = all_materials.sort_values(by='Similarity Score', ascending=False)\n",
    "        all_materials.drop('Similarity Score', axis=1, inplace=True)\n",
    "        return all_materials.merge(df[df['Application'] == application], how='left', on='Material')  # Merge with filtered df for the specified application\n",
    "\n",
    "  # Call give_rec within filter_material (remove printing)\n",
    "  all_materials = give_rec(material)\n",
    "\n",
    "  return all_materials  # Return the DataFrame containing recommendations\n",
    "\n",
    "\n",
    "# Loop through applications and call filter_material\n",
    "for material in search_materials:\n",
    "    material_lower = material.lower()\n",
    "\n",
    "    for application in applications:\n",
    "        if df[df['Application'] == application].shape[0] < 3:\n",
    "            continue\n",
    "        all_foundations = filter_material(application, material_lower)\n",
    "\n",
    "        # Print the DataFrame to inspect its structure\n",
    "        print(f\"\\n\\n** Recommendations for {application.upper()} Application with {material.upper()} material:\")\n",
    "        print(all_foundations)\n",
    "\n",
    "        # Check if 'Similarity Score' column exists in all_foundations DataFrame\n",
    "        if 'Similarity Score' in all_foundations.columns:\n",
    "            plt.figure(figsize=(10, 6))\n",
    "            plt.bar(all_foundations['Material'], all_foundations['Similarity Score'])\n",
    "            plt.xlabel('Material')\n",
    "            plt.ylabel('Similarity Score')\n",
    "            plt.title(f'Recommendations for {application.upper()} Application with {material.upper()} material')\n",
    "            plt.xticks(rotation=45, ha='right')\n",
    "            plt.tight_layout()\n",
    "            plt.show()\n",
    "        else:\n",
    "            print(f\"No 'Similarity Score' column found in recommendations for {application.upper()} Application with {material.upper()} material\")"
   ]
  }
 ],
 "metadata": {
  "kernelspec": {
   "display_name": "env",
   "language": "python",
   "name": "python3"
  },
  "language_info": {
   "codemirror_mode": {
    "name": "ipython",
    "version": 3
   },
   "file_extension": ".py",
   "mimetype": "text/x-python",
   "name": "python",
   "nbconvert_exporter": "python",
   "pygments_lexer": "ipython3",
   "version": "3.10.12"
  }
 },
 "nbformat": 4,
 "nbformat_minor": 2
}
